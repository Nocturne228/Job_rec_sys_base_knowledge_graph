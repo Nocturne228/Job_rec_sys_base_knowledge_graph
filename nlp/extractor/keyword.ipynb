{
 "cells": [
  {
   "cell_type": "code",
   "execution_count": 1,
   "outputs": [],
   "source": [
    "import pandas as pd\n",
    "import re\n",
    "from nltk import FreqDist"
   ],
   "metadata": {
    "collapsed": false,
    "ExecuteTime": {
     "end_time": "2024-03-25T09:24:37.794776900Z",
     "start_time": "2024-03-25T09:24:36.104768600Z"
    }
   },
   "id": "44c3ee5c098cc12f"
  },
  {
   "cell_type": "code",
   "execution_count": 53,
   "outputs": [
    {
     "name": "stdout",
     "output_type": "stream",
     "text": [
      "855930\n"
     ]
    }
   ],
   "source": [
    "df = pd.read_csv('extractor/output.csv')\n",
    "all_words = []\n",
    "for index, row in df.iterrows():\n",
    "    words = row['keyword'].split(',')\n",
    "    all_words.extend(words)\n",
    "    \n",
    "print(len(all_words))"
   ],
   "metadata": {
    "collapsed": false,
    "ExecuteTime": {
     "end_time": "2024-03-25T06:30:27.215255Z",
     "start_time": "2024-03-25T06:30:26.676792700Z"
    }
   },
   "id": "558831118d3d09de"
  },
  {
   "cell_type": "code",
   "execution_count": 54,
   "outputs": [
    {
     "name": "stdout",
     "output_type": "stream",
     "text": [
      "[('开发', 15631), ('工作', 14799), ('熟悉', 12058), ('相关', 11904), ('能力', 11861), ('经验', 11638), ('负责', 10724), ('技术', 10528), ('软件', 10047), ('设计', 8641), ('以上', 8418), ('项目', 8151), ('网络', 8052), ('优先', 7802), ('产品', 7268), ('要求', 6938), ('系统', 6867), ('专业', 6530), ('计算机', 5980), ('熟练', 5722)]\n"
     ]
    }
   ],
   "source": [
    "filtered_words = [word for word in all_words if len(word) > 1]\n",
    "# 计算词频\n",
    "freq_dist = FreqDist(filtered_words)\n",
    "\n",
    "# 打印出现频率最高的前10个词语及其词频\n",
    "print(freq_dist.most_common(20))\n",
    "sorted_freq = sorted(freq_dist.items(), key=lambda x: x[1], reverse=True)"
   ],
   "metadata": {
    "collapsed": false,
    "ExecuteTime": {
     "end_time": "2024-03-25T06:30:28.192544500Z",
     "start_time": "2024-03-25T06:30:27.662247Z"
    }
   },
   "id": "aa93edb75917db1d"
  },
  {
   "cell_type": "code",
   "execution_count": 55,
   "outputs": [],
   "source": [
    "with open('word_freq.txt', 'w', encoding='utf-8') as file:\n",
    "    # 遍历词频分布中的每个词语及其词频，将其写入文件\n",
    "    for word, freq in sorted_freq:\n",
    "        file.write(f\"{word}: {freq}\\n\")"
   ],
   "metadata": {
    "collapsed": false,
    "ExecuteTime": {
     "end_time": "2024-03-25T06:30:38.749356900Z",
     "start_time": "2024-03-25T06:30:38.730019500Z"
    }
   },
   "id": "c286d4b17b687fdd"
  },
  {
   "cell_type": "code",
   "execution_count": null,
   "outputs": [],
   "source": [],
   "metadata": {
    "collapsed": false
   },
   "id": "d4e7e659c45880c7"
  }
 ],
 "metadata": {
  "kernelspec": {
   "display_name": "Python 3",
   "language": "python",
   "name": "python3"
  },
  "language_info": {
   "codemirror_mode": {
    "name": "ipython",
    "version": 2
   },
   "file_extension": ".py",
   "mimetype": "text/x-python",
   "name": "python",
   "nbconvert_exporter": "python",
   "pygments_lexer": "ipython2",
   "version": "2.7.6"
  }
 },
 "nbformat": 4,
 "nbformat_minor": 5
}
