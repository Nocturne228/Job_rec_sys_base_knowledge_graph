{
 "cells": [
  {
   "cell_type": "code",
   "execution_count": 31,
   "id": "initial_id",
   "metadata": {
    "collapsed": true,
    "ExecuteTime": {
     "end_time": "2024-03-24T09:36:27.343765600Z",
     "start_time": "2024-03-24T09:36:27.338490100Z"
    }
   },
   "outputs": [],
   "source": [
    "import pandas as pd\n",
    "import re"
   ]
  },
  {
   "cell_type": "code",
   "execution_count": 32,
   "outputs": [],
   "source": [
    "df = pd.read_csv(\"./dataset/data_all.csv\")\n",
    "salary = df['salary']"
   ],
   "metadata": {
    "collapsed": false,
    "ExecuteTime": {
     "end_time": "2024-03-24T09:36:27.462333400Z",
     "start_time": "2024-03-24T09:36:27.341765900Z"
    }
   },
   "id": "cc98ae928fa6ccce"
  },
  {
   "cell_type": "code",
   "execution_count": 33,
   "outputs": [],
   "source": [
    "def get_salary(salary_str):\n",
    "    pattern = r'(\\d+)-(\\d+)K'\n",
    "    match = re.search(pattern, salary_str)\n",
    "    if match:\n",
    "        # 如果匹配成功，则提取匹配到的两个数字\n",
    "        start_salary = match.group(1)\n",
    "        end_salary = match.group(2)\n",
    "    \n",
    "        print(\"Start salary:\", start_salary)\n",
    "        print(\"End salary:\", end_salary)\n",
    "    else:\n",
    "        print(\"No match found\")"
   ],
   "metadata": {
    "collapsed": false,
    "ExecuteTime": {
     "end_time": "2024-03-24T09:36:27.468118Z",
     "start_time": "2024-03-24T09:36:27.463800800Z"
    }
   },
   "id": "9c2169ff7e7e98b5"
  },
  {
   "cell_type": "code",
   "execution_count": 34,
   "outputs": [],
   "source": [
    "def get_salary_from_chinese(salary_str):\n",
    "    pos = salary_str.find('-')\n",
    "    if pos != -1:\n",
    "        if salary_str[pos-1] == '万' and salary_str[-1] == '万':\n",
    "            botSalary = (float(salary_str[:pos-1])) * 10\n",
    "            topSalary = (float(salary_str[:pos+1 : len(salary_str)-1])) * 10\n",
    "        elif salary_str[pos-1] == '千' and salary_str[-1] == '万':\n",
    "            botSalary = float(salary_str[:pos-1])\n",
    "            topSalary = (float(salary_str[pos+1 : len(salary_str)-1])) * 10\n",
    "        else:\n",
    "            botSalary = float(salary_str[:pos-1])\n",
    "            topSalary = float(salary_str[pos+1 : len(salary_str)-1])\n",
    "    else:\n",
    "        botSalary = 0\n",
    "        topSalary = 0\n",
    "    return [botSalary, topSalary]"
   ],
   "metadata": {
    "collapsed": false,
    "ExecuteTime": {
     "end_time": "2024-03-24T09:36:27.473599400Z",
     "start_time": "2024-03-24T09:36:27.469115500Z"
    }
   },
   "id": "10d6f2926103edff"
  },
  {
   "cell_type": "code",
   "execution_count": 35,
   "outputs": [
    {
     "name": "stdout",
     "output_type": "stream",
     "text": [
      "Start salary: 2\n",
      "End salary: 4\n",
      "Start salary: 2\n",
      "End salary: 4\n",
      "Start salary: 1\n",
      "End salary: 6\n"
     ]
    }
   ],
   "source": [
    "for index, value in salary.items():\n",
    "    if index <= 2:\n",
    "        get_salary(value)"
   ],
   "metadata": {
    "collapsed": false,
    "ExecuteTime": {
     "end_time": "2024-03-24T09:36:27.483712800Z",
     "start_time": "2024-03-24T09:36:27.474598600Z"
    }
   },
   "id": "55a94b635c140e5a"
  },
  {
   "cell_type": "code",
   "execution_count": 35,
   "outputs": [],
   "source": [],
   "metadata": {
    "collapsed": false,
    "ExecuteTime": {
     "end_time": "2024-03-24T09:36:27.495835300Z",
     "start_time": "2024-03-24T09:36:27.482200100Z"
    }
   },
   "id": "eb457b2b5b20d961"
  }
 ],
 "metadata": {
  "kernelspec": {
   "display_name": "Python 3",
   "language": "python",
   "name": "python3"
  },
  "language_info": {
   "codemirror_mode": {
    "name": "ipython",
    "version": 2
   },
   "file_extension": ".py",
   "mimetype": "text/x-python",
   "name": "python",
   "nbconvert_exporter": "python",
   "pygments_lexer": "ipython2",
   "version": "2.7.6"
  }
 },
 "nbformat": 4,
 "nbformat_minor": 5
}
