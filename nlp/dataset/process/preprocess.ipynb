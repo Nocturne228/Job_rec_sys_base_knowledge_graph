{
 "cells": [
  {
   "cell_type": "code",
   "execution_count": 51,
   "id": "initial_id",
   "metadata": {
    "collapsed": true,
    "ExecuteTime": {
     "end_time": "2024-04-02T15:26:59.556487400Z",
     "start_time": "2024-04-02T15:26:59.554329400Z"
    }
   },
   "outputs": [],
   "source": [
    "import pandas as pd\n",
    "import chardet\n",
    "import pickle as pk\n",
    "import numpy as np\n",
    "import re\n",
    "from datetime import datetime"
   ]
  },
  {
   "cell_type": "code",
   "execution_count": 50,
   "outputs": [],
   "source": [
    "# 获取编码格式\n",
    "def get_encoding(file):\n",
    "    with open(file,'rb') as f:\n",
    "        tmp = chardet.detect(f.read())\n",
    "        return tmp['encoding']\n"
   ],
   "metadata": {
    "collapsed": false,
    "ExecuteTime": {
     "end_time": "2024-04-02T15:25:48.862485400Z",
     "start_time": "2024-04-02T15:25:48.854263300Z"
    }
   },
   "id": "e2f1bc6855d64fc4"
  },
  {
   "cell_type": "code",
   "execution_count": 31,
   "outputs": [
    {
     "data": {
      "text/plain": "                 职位               公司          地区          薪资    无意义  \\\n0          销售数据分析专员  家乐福广州 Gaungzhou      广州-天河区      5-8千/月  07-08   \n1     游戏数据分析师（全球市场）             字节跳动          深圳    1.5-3万/月  07-08   \n2         数据分析师（游戏）             哔哩哔哩      上海-杨浦区  1.5-2.5万/月  07-08   \n3  36665-公共出行-数据分析师   深圳市腾讯计算机系统有限公司          深圳         NaN  07-08   \n4            数据分析专家              饿了么  武汉-武汉经济...  1.8-2.5万/月  07-08   \n\n                                               招聘描述      公司性质            公司规模  \\\n0                                               NaN       NaN             NaN   \n1          ['深圳', '3-4年经验', '本科', '招1人', '07-08发布']  ['民营公司']    ['10000人以上']   \n2      ['上海-杨浦区', '3-4年经验', '本科', '招1人', '07-08发布']  ['上市公司']  ['1000-5000人']   \n3          ['深圳', '3-4年经验', '本科', '招2人', '07-08发布']  ['民营公司']    ['10000人以上']   \n4  ['武汉-武汉经济开发区', '5-7年经验', '本科', '招1人', '07-08发布']  ['民营公司']    ['10000人以上']   \n\n                 业务领域                                                 要求  \n0                 NaN                                                NaN  \n1  ['互联网/电子商务,计算机软件']                                                NaN  \n2        ['互联网/电子商务']  ['1.以用户增长为导向，对数据进行深度挖掘和分析，为提升增长关键指标提供落地性建议；', ...  \n3        ['互联网/电子商务']                                                NaN  \n4        ['互联网/电子商务']  ['职责描述：', '1、负责管理数据分析团队，并做好日常管理工作；', '2、带领团队进行...  ",
      "text/html": "<div>\n<style scoped>\n    .dataframe tbody tr th:only-of-type {\n        vertical-align: middle;\n    }\n\n    .dataframe tbody tr th {\n        vertical-align: top;\n    }\n\n    .dataframe thead th {\n        text-align: right;\n    }\n</style>\n<table border=\"1\" class=\"dataframe\">\n  <thead>\n    <tr style=\"text-align: right;\">\n      <th></th>\n      <th>职位</th>\n      <th>公司</th>\n      <th>地区</th>\n      <th>薪资</th>\n      <th>无意义</th>\n      <th>招聘描述</th>\n      <th>公司性质</th>\n      <th>公司规模</th>\n      <th>业务领域</th>\n      <th>要求</th>\n    </tr>\n  </thead>\n  <tbody>\n    <tr>\n      <th>0</th>\n      <td>销售数据分析专员</td>\n      <td>家乐福广州 Gaungzhou</td>\n      <td>广州-天河区</td>\n      <td>5-8千/月</td>\n      <td>07-08</td>\n      <td>NaN</td>\n      <td>NaN</td>\n      <td>NaN</td>\n      <td>NaN</td>\n      <td>NaN</td>\n    </tr>\n    <tr>\n      <th>1</th>\n      <td>游戏数据分析师（全球市场）</td>\n      <td>字节跳动</td>\n      <td>深圳</td>\n      <td>1.5-3万/月</td>\n      <td>07-08</td>\n      <td>['深圳', '3-4年经验', '本科', '招1人', '07-08发布']</td>\n      <td>['民营公司']</td>\n      <td>['10000人以上']</td>\n      <td>['互联网/电子商务,计算机软件']</td>\n      <td>NaN</td>\n    </tr>\n    <tr>\n      <th>2</th>\n      <td>数据分析师（游戏）</td>\n      <td>哔哩哔哩</td>\n      <td>上海-杨浦区</td>\n      <td>1.5-2.5万/月</td>\n      <td>07-08</td>\n      <td>['上海-杨浦区', '3-4年经验', '本科', '招1人', '07-08发布']</td>\n      <td>['上市公司']</td>\n      <td>['1000-5000人']</td>\n      <td>['互联网/电子商务']</td>\n      <td>['1.以用户增长为导向，对数据进行深度挖掘和分析，为提升增长关键指标提供落地性建议；', ...</td>\n    </tr>\n    <tr>\n      <th>3</th>\n      <td>36665-公共出行-数据分析师</td>\n      <td>深圳市腾讯计算机系统有限公司</td>\n      <td>深圳</td>\n      <td>NaN</td>\n      <td>07-08</td>\n      <td>['深圳', '3-4年经验', '本科', '招2人', '07-08发布']</td>\n      <td>['民营公司']</td>\n      <td>['10000人以上']</td>\n      <td>['互联网/电子商务']</td>\n      <td>NaN</td>\n    </tr>\n    <tr>\n      <th>4</th>\n      <td>数据分析专家</td>\n      <td>饿了么</td>\n      <td>武汉-武汉经济...</td>\n      <td>1.8-2.5万/月</td>\n      <td>07-08</td>\n      <td>['武汉-武汉经济开发区', '5-7年经验', '本科', '招1人', '07-08发布']</td>\n      <td>['民营公司']</td>\n      <td>['10000人以上']</td>\n      <td>['互联网/电子商务']</td>\n      <td>['职责描述：', '1、负责管理数据分析团队，并做好日常管理工作；', '2、带领团队进行...</td>\n    </tr>\n  </tbody>\n</table>\n</div>"
     },
     "execution_count": 31,
     "metadata": {},
     "output_type": "execute_result"
    }
   ],
   "source": [
    "encoding = get_encoding('data.csv')\n",
    "data = pd.read_csv('data.csv', encoding=encoding)\n",
    "data.head()"
   ],
   "metadata": {
    "collapsed": false,
    "ExecuteTime": {
     "end_time": "2024-04-02T15:13:58.597441100Z",
     "start_time": "2024-04-02T15:13:37.918104600Z"
    }
   },
   "id": "c84e72ed3e53dc9"
  },
  {
   "cell_type": "code",
   "execution_count": 44,
   "outputs": [
    {
     "name": "stdout",
     "output_type": "stream",
     "text": [
      "<class 'pandas.core.frame.DataFrame'>\n",
      "RangeIndex: 31035 entries, 0 to 31034\n",
      "Data columns (total 10 columns):\n",
      " #   Column  Non-Null Count  Dtype \n",
      "---  ------  --------------  ----- \n",
      " 0   职位      31035 non-null  object\n",
      " 1   公司      31035 non-null  object\n",
      " 2   地区      31035 non-null  object\n",
      " 3   薪资      30707 non-null  object\n",
      " 4   无意义     31035 non-null  object\n",
      " 5   招聘描述    30889 non-null  object\n",
      " 6   公司性质    30889 non-null  object\n",
      " 7   公司规模    30889 non-null  object\n",
      " 8   业务领域    30889 non-null  object\n",
      " 9   要求      28302 non-null  object\n",
      "dtypes: object(10)\n",
      "memory usage: 2.4+ MB\n"
     ]
    }
   ],
   "source": [
    "data.info()"
   ],
   "metadata": {
    "collapsed": false,
    "ExecuteTime": {
     "end_time": "2024-04-02T15:19:00.146326400Z",
     "start_time": "2024-04-02T15:19:00.131865800Z"
    }
   },
   "id": "af676eeaf988a9a0"
  },
  {
   "cell_type": "code",
   "execution_count": 45,
   "outputs": [],
   "source": [
    "proc_data = data.dropna(subset=['薪资', '招聘描述'])"
   ],
   "metadata": {
    "collapsed": false,
    "ExecuteTime": {
     "end_time": "2024-04-02T15:19:00.384509700Z",
     "start_time": "2024-04-02T15:19:00.373084100Z"
    }
   },
   "id": "7fd376963dfdd755"
  },
  {
   "cell_type": "code",
   "execution_count": 46,
   "outputs": [],
   "source": [
    "proc_data = proc_data.drop('无意义', axis=1)"
   ],
   "metadata": {
    "collapsed": false,
    "ExecuteTime": {
     "end_time": "2024-04-02T15:19:00.828191700Z",
     "start_time": "2024-04-02T15:19:00.819378Z"
    }
   },
   "id": "17ccb457823472ac"
  },
  {
   "cell_type": "code",
   "execution_count": 49,
   "outputs": [],
   "source": [
    "# proc_data.to_pickle('precessed_data.pkl')"
   ],
   "metadata": {
    "collapsed": false,
    "ExecuteTime": {
     "end_time": "2024-04-02T15:20:28.624299700Z",
     "start_time": "2024-04-02T15:20:28.552495300Z"
    }
   },
   "id": "b0587a8cf2ab2ec4"
  },
  {
   "cell_type": "code",
   "execution_count": null,
   "outputs": [],
   "source": [],
   "metadata": {
    "collapsed": false
   },
   "id": "ddcb2523539a2acd"
  },
  {
   "cell_type": "code",
   "execution_count": 60,
   "outputs": [
    {
     "data": {
      "text/plain": "               薪资\n1        1.5-3万/月\n2      1.5-2.5万/月\n4      1.8-2.5万/月\n5        1-1.5万/月\n7        1.5-2万/月\n...           ...\n31030      6-8千/月\n31031    4.5-6千/月\n31032      6-8千/月\n31033      7-9千/月\n31034      4-7千/月\n\n[30585 rows x 1 columns]",
      "text/html": "<div>\n<style scoped>\n    .dataframe tbody tr th:only-of-type {\n        vertical-align: middle;\n    }\n\n    .dataframe tbody tr th {\n        vertical-align: top;\n    }\n\n    .dataframe thead th {\n        text-align: right;\n    }\n</style>\n<table border=\"1\" class=\"dataframe\">\n  <thead>\n    <tr style=\"text-align: right;\">\n      <th></th>\n      <th>薪资</th>\n    </tr>\n  </thead>\n  <tbody>\n    <tr>\n      <th>1</th>\n      <td>1.5-3万/月</td>\n    </tr>\n    <tr>\n      <th>2</th>\n      <td>1.5-2.5万/月</td>\n    </tr>\n    <tr>\n      <th>4</th>\n      <td>1.8-2.5万/月</td>\n    </tr>\n    <tr>\n      <th>5</th>\n      <td>1-1.5万/月</td>\n    </tr>\n    <tr>\n      <th>7</th>\n      <td>1.5-2万/月</td>\n    </tr>\n    <tr>\n      <th>...</th>\n      <td>...</td>\n    </tr>\n    <tr>\n      <th>31030</th>\n      <td>6-8千/月</td>\n    </tr>\n    <tr>\n      <th>31031</th>\n      <td>4.5-6千/月</td>\n    </tr>\n    <tr>\n      <th>31032</th>\n      <td>6-8千/月</td>\n    </tr>\n    <tr>\n      <th>31033</th>\n      <td>7-9千/月</td>\n    </tr>\n    <tr>\n      <th>31034</th>\n      <td>4-7千/月</td>\n    </tr>\n  </tbody>\n</table>\n<p>30585 rows × 1 columns</p>\n</div>"
     },
     "execution_count": 60,
     "metadata": {},
     "output_type": "execute_result"
    }
   ],
   "source": [
    "Split = pd.DataFrame(proc_data['薪资'])\n",
    "Split"
   ],
   "metadata": {
    "collapsed": false,
    "ExecuteTime": {
     "end_time": "2024-04-02T15:50:41.793697400Z",
     "start_time": "2024-04-02T15:50:41.785490600Z"
    }
   },
   "id": "94d87bd8a9f697a2"
  },
  {
   "cell_type": "code",
   "execution_count": 56,
   "outputs": [
    {
     "ename": "TypeError",
     "evalue": "StringMethods.split() takes from 1 to 2 positional arguments but 3 were given",
     "output_type": "error",
     "traceback": [
      "\u001B[1;31m---------------------------------------------------------------------------\u001B[0m",
      "\u001B[1;31mTypeError\u001B[0m                                 Traceback (most recent call last)",
      "Cell \u001B[1;32mIn[56], line 2\u001B[0m\n\u001B[0;32m      1\u001B[0m \u001B[38;5;66;03m# 薪资处理\u001B[39;00m\n\u001B[1;32m----> 2\u001B[0m Split \u001B[38;5;241m=\u001B[39m \u001B[43mproc_data\u001B[49m\u001B[43m[\u001B[49m\u001B[38;5;124;43m'\u001B[39;49m\u001B[38;5;124;43m薪资\u001B[39;49m\u001B[38;5;124;43m'\u001B[39;49m\u001B[43m]\u001B[49m\u001B[38;5;241;43m.\u001B[39;49m\u001B[43mstr\u001B[49m\u001B[38;5;241;43m.\u001B[39;49m\u001B[43msplit\u001B[49m\u001B[43m(\u001B[49m\u001B[38;5;124;43m'\u001B[39;49m\u001B[38;5;124;43m-\u001B[39;49m\u001B[38;5;124;43m'\u001B[39;49m\u001B[43m,\u001B[49m\u001B[43m \u001B[49m\u001B[38;5;241;43m1\u001B[39;49m\u001B[43m)\u001B[49m\n\u001B[0;32m      4\u001B[0m Split\u001B[38;5;241m=\u001B[39mSplit\u001B[38;5;241m.\u001B[39mreplace(\u001B[38;5;124m'\u001B[39m\u001B[38;5;124m万/月\u001B[39m\u001B[38;5;124m'\u001B[39m,\u001B[38;5;124m'\u001B[39m\u001B[38;5;124m'\u001B[39m, regex\u001B[38;5;241m=\u001B[39m\u001B[38;5;28;01mTrue\u001B[39;00m)\n\u001B[0;32m      5\u001B[0m Split\u001B[38;5;241m=\u001B[39mSplit\u001B[38;5;241m.\u001B[39mreplace(\u001B[38;5;124m'\u001B[39m\u001B[38;5;124m千/月\u001B[39m\u001B[38;5;124m'\u001B[39m,\u001B[38;5;124m'\u001B[39m\u001B[38;5;124m'\u001B[39m, regex\u001B[38;5;241m=\u001B[39m\u001B[38;5;28;01mTrue\u001B[39;00m)\n",
      "File \u001B[1;32mE:\\Job_rec_sys_based_knowledge_graph\\.venv\\Lib\\site-packages\\pandas\\core\\strings\\accessor.py:137\u001B[0m, in \u001B[0;36mforbid_nonstring_types.<locals>._forbid_nonstring_types.<locals>.wrapper\u001B[1;34m(self, *args, **kwargs)\u001B[0m\n\u001B[0;32m    132\u001B[0m     msg \u001B[38;5;241m=\u001B[39m (\n\u001B[0;32m    133\u001B[0m         \u001B[38;5;124mf\u001B[39m\u001B[38;5;124m\"\u001B[39m\u001B[38;5;124mCannot use .str.\u001B[39m\u001B[38;5;132;01m{\u001B[39;00mfunc_name\u001B[38;5;132;01m}\u001B[39;00m\u001B[38;5;124m with values of \u001B[39m\u001B[38;5;124m\"\u001B[39m\n\u001B[0;32m    134\u001B[0m         \u001B[38;5;124mf\u001B[39m\u001B[38;5;124m\"\u001B[39m\u001B[38;5;124minferred dtype \u001B[39m\u001B[38;5;124m'\u001B[39m\u001B[38;5;132;01m{\u001B[39;00m\u001B[38;5;28mself\u001B[39m\u001B[38;5;241m.\u001B[39m_inferred_dtype\u001B[38;5;132;01m}\u001B[39;00m\u001B[38;5;124m'\u001B[39m\u001B[38;5;124m.\u001B[39m\u001B[38;5;124m\"\u001B[39m\n\u001B[0;32m    135\u001B[0m     )\n\u001B[0;32m    136\u001B[0m     \u001B[38;5;28;01mraise\u001B[39;00m \u001B[38;5;167;01mTypeError\u001B[39;00m(msg)\n\u001B[1;32m--> 137\u001B[0m \u001B[38;5;28;01mreturn\u001B[39;00m \u001B[43mfunc\u001B[49m\u001B[43m(\u001B[49m\u001B[38;5;28;43mself\u001B[39;49m\u001B[43m,\u001B[49m\u001B[43m \u001B[49m\u001B[38;5;241;43m*\u001B[39;49m\u001B[43margs\u001B[49m\u001B[43m,\u001B[49m\u001B[43m \u001B[49m\u001B[38;5;241;43m*\u001B[39;49m\u001B[38;5;241;43m*\u001B[39;49m\u001B[43mkwargs\u001B[49m\u001B[43m)\u001B[49m\n",
      "\u001B[1;31mTypeError\u001B[0m: StringMethods.split() takes from 1 to 2 positional arguments but 3 were given"
     ]
    }
   ],
   "source": [
    "# 薪资处理\n",
    "\n",
    "Split=Split.replace('万/月','', regex=True)\n",
    "Split=Split.replace('千/月','', regex=True)\n",
    "Split=Split.replace('元/天','', regex=True)\n",
    "Split=Split.replace('千以下/月','', regex=True)\n",
    "Split=Split.replace('万以下/年','', regex=True)\n",
    "Split=Split.replace('元/小时','', regex=True)\n",
    "Split=Split.replace('万/年','', regex=True)\n",
    "Split.columns = ['工资下限','工资上限']"
   ],
   "metadata": {
    "collapsed": false,
    "ExecuteTime": {
     "end_time": "2024-04-02T15:46:30.477252400Z",
     "start_time": "2024-04-02T15:46:30.455616200Z"
    }
   },
   "id": "8216a701cdaa3ce4"
  },
  {
   "cell_type": "code",
   "execution_count": null,
   "outputs": [],
   "source": [],
   "metadata": {
    "collapsed": false
   },
   "id": "e1257d3ebc31152c"
  }
 ],
 "metadata": {
  "kernelspec": {
   "display_name": "Python 3",
   "language": "python",
   "name": "python3"
  },
  "language_info": {
   "codemirror_mode": {
    "name": "ipython",
    "version": 2
   },
   "file_extension": ".py",
   "mimetype": "text/x-python",
   "name": "python",
   "nbconvert_exporter": "python",
   "pygments_lexer": "ipython2",
   "version": "2.7.6"
  }
 },
 "nbformat": 4,
 "nbformat_minor": 5
}
